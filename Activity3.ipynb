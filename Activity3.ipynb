{
  "nbformat": 4,
  "nbformat_minor": 0,
  "metadata": {
    "colab": {
      "provenance": []
    },
    "kernelspec": {
      "name": "python3",
      "display_name": "Python 3"
    },
    "language_info": {
      "name": "python"
    }
  },
  "cells": [
    {
      "cell_type": "markdown",
      "source": [
        "<a href=\"https://colab.research.google.com/github/rhudaina/UPB-Graduate-Bootcamp-2024/blob/main/Activity3.ipynb\" target=\"_parent\"><img src=\"https://colab.research.google.com/assets/colab-badge.svg\" alt=\"Open In Colab\"/></a>"
      ],
      "metadata": {
        "id": "z78EioSmX3ld"
      }
    },
    {
      "cell_type": "markdown",
      "source": [
        "### Consider $n\\times n$ random matrix. Compare runtimes for solving $$Ax = y$$ using LU, QR, `eig`, SVD, `np.linalg.inv`, `np.linalg.solve`, `np.linalg.pinv` for $n=2,2^2,2^3,\\ldots,2^{11}$. Which is the fastest?"
      ],
      "metadata": {
        "id": "FJKhNfu2LfIT"
      }
    },
    {
      "cell_type": "code",
      "source": [],
      "metadata": {
        "id": "-snr198FLrKC"
      },
      "execution_count": null,
      "outputs": []
    },
    {
      "cell_type": "markdown",
      "source": [
        "Source: [Brad Nelson (2021), Scientific Computing with Python](https://caam37830.github.io/book/index.html)"
      ],
      "metadata": {
        "id": "MyZBv8p0ZzWt"
      }
    }
  ]
}