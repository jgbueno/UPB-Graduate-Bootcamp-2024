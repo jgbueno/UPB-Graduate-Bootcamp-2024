{
  "cells": [
    {
      "cell_type": "markdown",
      "source": [
        "<a href=\"https://colab.research.google.com/github/rhudaina/UPB-Graduate-Bootcamp-2024/blob/main/Day2_1_Visualization_Matplotlib_Basics.ipynb\" target=\"_parent\"><img src=\"https://colab.research.google.com/assets/colab-badge.svg\" alt=\"Open In Colab\"/></a>"
      ],
      "metadata": {
        "id": "DfQVsuXoN2MA"
      }
    },
    {
      "cell_type": "markdown",
      "metadata": {
        "id": "nfIAN-emdUyn"
      },
      "source": [
        "# Matplotlib\n",
        "\n",
        "Sources: <https://github.com/JamesFergusson/Research-Computing/> and [Serafina Di Gioia (2024), Python 101, SMR 3935](https://indico.ictp.it/event/10473)"
      ]
    },
    {
      "cell_type": "code",
      "execution_count": null,
      "metadata": {
        "id": "bW7t8Dq5dUyo"
      },
      "outputs": [],
      "source": [
        "import numpy as np\n",
        "from matplotlib import pyplot as plt"
      ]
    },
    {
      "cell_type": "markdown",
      "metadata": {
        "id": "MP4lruiidUyp"
      },
      "source": [
        "Let's do the first simple plot:"
      ]
    },
    {
      "cell_type": "code",
      "execution_count": null,
      "metadata": {
        "id": "a3CoNEjzdUyp"
      },
      "outputs": [],
      "source": [
        "x = np.linspace(0,10,70)\n",
        "y = np.sin(x)\n",
        "plt.plot(x,y)\n",
        "plt.show()"
      ]
    },
    {
      "cell_type": "markdown",
      "metadata": {
        "id": "imFg91WAdUyp"
      },
      "source": [
        "We can do muplitple at once:"
      ]
    },
    {
      "cell_type": "code",
      "execution_count": null,
      "metadata": {
        "id": "StT0zBt-dUyq"
      },
      "outputs": [],
      "source": [
        "y1 = np.sin(x)\n",
        "y2 = np.cos(x)\n",
        "plt.plot(x,y1)\n",
        "plt.plot(x,y2)\n",
        "plt.show()"
      ]
    },
    {
      "cell_type": "markdown",
      "metadata": {
        "id": "fL9dxoi4dUyq"
      },
      "source": [
        "We can play with the line colors and styles:"
      ]
    },
    {
      "cell_type": "code",
      "execution_count": null,
      "metadata": {
        "id": "OGqKDk9kdUyq"
      },
      "outputs": [],
      "source": [
        "x = np.linspace(0,5,20)\n",
        "y1 = np.sin(x)\n",
        "y2 = np.sin(x) + 0.2\n",
        "y3 = np.sin(x) + 0.4\n",
        "y4 = np.sin(x) + 0.6\n",
        "y5 = np.sin(x) + 0.8\n",
        "y6 = np.sin(x) + 1\n",
        "plt.plot(x,y1,linestyle='-',linewidth=1,color='r',marker=('o'))\n",
        "plt.plot(x,y2,linestyle='--',linewidth=2,color='#64D081',marker=('^'))\n",
        "plt.plot(x,y3,linestyle='-.',linewidth=3,color=(139/255, 0, 139/255),marker=('s'))\n",
        "plt.plot(x,y4,linestyle=':',linewidth=4,color='lime',marker=('*'))\n",
        "plt.plot(x,y5,linestyle=' ',marker=('$HI$'),color='steelblue')\n",
        "plt.show()"
      ]
    },
    {
      "cell_type": "markdown",
      "metadata": {
        "id": "f5GzW1sSdUyq"
      },
      "source": [
        "### Axis and Legend\n",
        "\n",
        "You should always add legend and axis to your plots, especially if you share them with other people."
      ]
    },
    {
      "cell_type": "code",
      "execution_count": null,
      "metadata": {
        "id": "DvxvIbfFdUyq"
      },
      "outputs": [],
      "source": [
        "x = np.linspace(0,5,20)\n",
        "y1 = np.sin(x)\n",
        "y2 = np.sin(x) + 0.2\n",
        "y3 = np.sin(x) + 0.4\n",
        "y4 = np.sin(x) + 0.6\n",
        "y5 = np.sin(x) + 0.8\n",
        "y6 = np.sin(x) + 1\n",
        "\n",
        "#aspect ratio\n",
        "w, h = plt.figaspect(0.56)\n",
        "plt.figure('Sin plots',figsize=(w,h))\n",
        "\n",
        "plt.plot(x,y1,linestyle='-',linewidth=1,color='r',marker=('o'))\n",
        "plt.plot(x,y2,linestyle='--',linewidth=2,color='#00FA9A',marker=('^'))\n",
        "plt.plot(x,y3,linestyle='-.',linewidth=3,color=(139/255, 0, 139/255),marker=('s'))\n",
        "plt.plot(x,y4,linestyle=':',linewidth=4,color='lightcoral',marker=('*'))\n",
        "plt.plot(x,y5,linestyle=' ',marker=('$H$'),color='steelblue')\n",
        "\n",
        "# Tick location and limits\n",
        "plt.xticks((0,1,2,3,4,5))\n",
        "plt.xlim(0,5)\n",
        "plt.yticks((-1,0,1,2))\n",
        "plt.ylim(-1,2)\n",
        "\n",
        "# Make ticks point inwards and also appear top and right\n",
        "plt.tick_params(direction='in',top=True,right=True)\n",
        "\n",
        "#Add some labels\n",
        "plt.title('This is the name of the picture',fontsize = 'xx-large',fontstyle='italic',fontweight='bold')\n",
        "plt.ylabel('This is the $y$ axis',fontsize = 'xx-large',fontstyle='oblique',fontweight = 'heavy')\n",
        "plt.xlabel('This is the $x$ axis',fontsize = 'xx-large',fontstyle='normal',fontweight = 'medium')\n",
        "\n",
        "# add a legend\n",
        "# you can also label the lines in the plot diective with: label='name here'\n",
        "import matplotlib.font_manager as font_manager\n",
        "font = font_manager.FontProperties(weight='bold',style='normal', size=16)\n",
        "plt.legend(('A','B','C','D','E'),prop=font,loc='upper right', shadow=True, labelcolor='linecolor')\n",
        "\n",
        "# removed extra white space\n",
        "plt.tight_layout()"
      ]
    },
    {
      "cell_type": "markdown",
      "metadata": {
        "id": "VkWc-eSgdUyq"
      },
      "source": [
        "### Subplots"
      ]
    },
    {
      "cell_type": "code",
      "execution_count": null,
      "metadata": {
        "id": "rTVBpGL6dUyr"
      },
      "outputs": [],
      "source": [
        "x = np.linspace(0,5,20)\n",
        "y1 = np.sin(x)\n",
        "y2 = np.sin(x + 0.2)\n",
        "y3 = np.sin(x + 0.4)\n",
        "y4 = np.sin(x + 0.6)\n",
        "y5 = np.sin(x + 0.8)\n",
        "y6 = np.sin(x + 1)\n",
        "\n",
        "# now we decide the actual figure size in inches\n",
        "fig = plt.figure(figsize=(12,6))\n",
        "\n",
        "plt.suptitle('This is the name of the whole picture',fontweight='bold', fontsize='x-large')\n",
        "\n",
        "# create subplots 231 means make a 2x3 grid and this is the first plot\n",
        "plt.subplot(231)\n",
        "#these are here to show that you can do the same here as for a single plot\n",
        "plt.title('This is the name of one small picture',fontsize = 'xx-large',fontstyle='italic',fontweight='bold')\n",
        "plt.ylabel('This is the $y$ axis',fontsize = 'xx-large',fontstyle='oblique',fontweight = 'heavy')\n",
        "plt.xlabel('This is the $x$ axis',fontsize = 'xx-large',fontstyle='normal',fontweight = 'medium')\n",
        "plt.plot(x,y1,color='r')\n",
        "plt.subplot(232)\n",
        "plt.plot(x,y2,color='g')\n",
        "plt.subplot(233)\n",
        "plt.plot(x,y3,color='b')\n",
        "plt.subplot(234)\n",
        "plt.plot(x,y4,color='y')\n",
        "plt.subplot(235)\n",
        "plt.plot(x,y5,color='c')\n",
        "plt.subplot(236)\n",
        "plt.plot(x,y6,color='m')\n",
        "# removed extra white space\n",
        "plt.tight_layout()\n"
      ]
    },
    {
      "cell_type": "markdown",
      "metadata": {
        "id": "dUaKukR9dUyr"
      },
      "source": [
        "### Different sizes"
      ]
    },
    {
      "cell_type": "code",
      "execution_count": null,
      "metadata": {
        "id": "Yl_Dmf7cdUyr"
      },
      "outputs": [],
      "source": [
        "x = np.linspace(0,5,20)\n",
        "y1 = np.sin(x)\n",
        "y2 = np.sin(x + 0.2)\n",
        "y3 = np.sin(x + 0.4)\n",
        "y4 = np.sin(x + 0.6)\n",
        "y5 = np.sin(x + 0.8)\n",
        "y6 = np.sin(x + 1.0)\n",
        "y7 = np.sin(x + 1.2)\n",
        "\n",
        "# now we decide the actual figure size in inches\n",
        "fig = plt.figure(figsize=(12,6))\n",
        "\n",
        "# create subplots now we have created a 2x2 grid and a 4x4 grid and fitted them together\n",
        "plt.subplot(221)\n",
        "plt.plot(x,y1,color='r')\n",
        "plt.subplot(223)\n",
        "plt.plot(x,y2,color='g')\n",
        "plt.subplot(224)\n",
        "plt.plot(x,y7,color='k')\n",
        "\n",
        "plt.subplot(443)\n",
        "plt.plot(x,y3,color='b')\n",
        "plt.subplot(444)\n",
        "plt.plot(x,y4,color='y')\n",
        "plt.subplot(447)\n",
        "plt.plot(x,y5,color='c')\n",
        "plt.subplot(448)\n",
        "plt.plot(x,y6,color='m')\n",
        "plt.show()"
      ]
    },
    {
      "cell_type": "markdown",
      "metadata": {
        "id": "rmsUJTdBdUyr"
      },
      "source": [
        "### Saving to file\n",
        "\n",
        "if you need to save the picture or are running the script, use:"
      ]
    },
    {
      "cell_type": "code",
      "execution_count": null,
      "metadata": {
        "id": "5a6veb9GdUyr"
      },
      "outputs": [],
      "source": [
        "x = np.linspace(0,10,100)\n",
        "y = np.sin(x)\n",
        "plt.plot(x,y)\n",
        "plt.savefig(\"test.png\")\n",
        "plt.savefig(\"test.pdf\")"
      ]
    },
    {
      "cell_type": "markdown",
      "metadata": {
        "id": "djF-Gtd0dUys"
      },
      "source": [
        "If you are working in a script/command line, use `plt.show()` to see the picture. There is a change it won't work if something is misconfigured in your system though."
      ]
    },
    {
      "cell_type": "markdown",
      "metadata": {
        "id": "KlVT3e7kdUys"
      },
      "source": [
        "### Different interface"
      ]
    },
    {
      "cell_type": "code",
      "execution_count": null,
      "metadata": {
        "id": "2VLdzRlKdUys"
      },
      "outputs": [],
      "source": [
        "x = np.linspace(0,5,20)\n",
        "y1 = np.sin(x)\n",
        "y2 = np.sin(x) + 0.2\n",
        "y3 = np.sin(x) + 0.4\n",
        "y4 = np.sin(x) + 0.6\n",
        "y5 = np.sin(x) + 0.8\n",
        "y6 = np.sin(x) + 1\n",
        "\n",
        "#aspect ratio\n",
        "w, h = plt.figaspect(0.36)\n",
        "fig = plt.figure('Sin plots',figsize=(w,h))\n",
        "ax = plt.axes()\n",
        "\n",
        "ax.plot(x,y1,linestyle='-',linewidth=1,color='r',marker=('o'))\n",
        "ax.plot(x,y2,linestyle='--',linewidth=2,color='#00FA9A',marker=('^'))\n",
        "ax.plot(x,y3,linestyle='-.',linewidth=3,color=(139/255, 0, 139/255),marker=('s'))\n",
        "ax.plot(x,y4,linestyle=':',linewidth=4,color='lightcoral',marker=('*'))\n",
        "ax.plot(x,y5,linestyle=' ',marker=('$H$'),color='steelblue')\n",
        "\n",
        "# Tick location and limits\n",
        "ax.set(xticks=(0,1,2,3,4,5),xlim=(0,5),yticks=(-1,0,1,2),ylim=(-1,2))\n",
        "\n",
        "# Make ticks point inwards and also appear top and right\n",
        "ax.tick_params(direction='in',top=True,right=True)\n",
        "\n",
        "# Add some labels\n",
        "ax.set_title('Plot of some stuff',fontsize = 'xx-large',fontstyle='italic',fontweight = 'light')\n",
        "ax.set_ylabel('This is the $y$ axis',fontsize = 'xx-large',fontstyle='oblique',fontweight = 'heavy')\n",
        "ax.set_xlabel('This is the $x$ axis',fontsize = 'xx-large',fontstyle='normal',fontweight = 'medium')\n",
        "\n",
        "# add a legend, annoyingly here you can't use most font commands but have to set it manually and import as 'prop'\n",
        "import matplotlib.font_manager as font_manager\n",
        "font = font_manager.FontProperties(weight='bold',style='normal', size=16)\n",
        "ax.legend(('A','B','C','D','E'),prop=font,loc='upper right', shadow=True)\n",
        "\n",
        "# removed extra white space\n",
        "plt.tight_layout()"
      ]
    },
    {
      "cell_type": "markdown",
      "metadata": {
        "id": "dN2iL5NodUys"
      },
      "source": [
        "Multiple plots are slightly more intuitive like that"
      ]
    },
    {
      "cell_type": "code",
      "execution_count": null,
      "metadata": {
        "id": "duAubBGddUys"
      },
      "outputs": [],
      "source": [
        "# now we decide the actual figure and share x and y axes\n",
        "fig, ax = plt.subplots(2,3,figsize=(12,6), sharex=True,sharey=True)\n",
        "\n",
        "# Now each plot has a location defined by the numpy array ax\n",
        "ax[0,0].plot(x,y1,color='r')\n",
        "ax[0,1].plot(x,y2,color='g')\n",
        "ax[0,2].plot(x,y3,color='b')\n",
        "ax[1,0].plot(x,y4,color='y')\n",
        "ax[1,1].plot(x,y5,color='c')\n",
        "ax[1,2].plot(x,y6,color='m')\n",
        "# removed extra white space\n",
        "fig.tight_layout()"
      ]
    },
    {
      "cell_type": "code",
      "execution_count": null,
      "metadata": {
        "id": "_KcW-ZdydUys"
      },
      "outputs": [],
      "source": [
        "x = np.linspace(0,5,20)\n",
        "y1 = np.sin(x)\n",
        "y2 = np.sin(x + 0.2)\n",
        "y3 = np.sin(x + 0.4)\n",
        "y4 = np.sin(x + 0.6)\n",
        "y5 = np.sin(x + 0.8)\n",
        "y6 = np.sin(x + 1.0)\n",
        "y7 = np.sin(x + 1.2)\n",
        "\n",
        "# create figure\n",
        "fig = plt.figure(figsize=(12,6))\n",
        "# import gridspec and create a 4x4 grid\n",
        "# we can also specifc the ratios of the sections of the grid relative to each other\n",
        "import matplotlib.gridspec as gs\n",
        "grid = gs.GridSpec(4, 4,width_ratios=[1,1,1,2],height_ratios=[1,1,1,1])\n",
        "\n",
        "# Create axis objects for each plot\n",
        "ax1 = plt.subplot(grid[0:2,0:2])\n",
        "ax2 = plt.subplot(grid[2:4,0:2])\n",
        "ax3 = plt.subplot(grid[2:4,2:4])\n",
        "ax4 = plt.subplot(grid[0,2])\n",
        "ax5 = plt.subplot(grid[0,3])\n",
        "ax6 = plt.subplot(grid[1,2])\n",
        "ax7 = plt.subplot(grid[1,3])\n",
        "\n",
        "# create subplots\n",
        "ax1.plot(x,y1,color='r')\n",
        "ax2.plot(x,y2,color='g')\n",
        "ax3.plot(x,y7,color='k')\n",
        "\n",
        "ax4.plot(x,y3,color='b')\n",
        "ax5.plot(x,y4,color='y')\n",
        "ax6.plot(x,y5,color='c')\n",
        "ax7.plot(x,y6,color='m')\n",
        "plt.show()"
      ]
    },
    {
      "cell_type": "markdown",
      "metadata": {
        "id": "jH30VozddUys"
      },
      "source": [
        "If we go back to the previous example of 6 plots in a regular grid we can do it with gridspec which gives us more control:"
      ]
    },
    {
      "cell_type": "code",
      "execution_count": null,
      "metadata": {
        "id": "YJmXB5TKdUyt"
      },
      "outputs": [],
      "source": [
        "# create figure\n",
        "fig = plt.figure(figsize=(12,6))\n",
        "# import gridspec and create a 4x4 grid\n",
        "# This time lets join them up into one\n",
        "import matplotlib.gridspec as gs\n",
        "grid = gs.GridSpec(2,3,wspace=0,hspace=0)\n",
        "\n",
        "# Create axis objects for each plot\n",
        "ax1 = plt.subplot(grid[0,0])\n",
        "ax2 = plt.subplot(grid[0,1])\n",
        "ax3 = plt.subplot(grid[0,2])\n",
        "ax4 = plt.subplot(grid[1,0])\n",
        "ax5 = plt.subplot(grid[1,1])\n",
        "ax6 = plt.subplot(grid[1,2])\n",
        "\n",
        "# create subplots for all 6\n",
        "ax1.plot(x,y1,color='r')\n",
        "ax2.plot(x,y2,color='g')\n",
        "ax3.plot(x,y7,color='b')\n",
        "ax4.plot(x,y3,color='y')\n",
        "ax5.plot(x,y4,color='c')\n",
        "ax6.plot(x,y5,color='m')\n",
        "\n",
        "# Turn the ticks inward\n",
        "ax1.tick_params(direction='in',top=True,right=True)\n",
        "ax2.tick_params(direction='in',top=True,right=True)\n",
        "ax3.tick_params(direction='in',top=True,right=True)\n",
        "ax4.tick_params(direction='in',top=True,right=True)\n",
        "ax5.tick_params(direction='in',top=True,right=True)\n",
        "ax6.tick_params(direction='in',top=True,right=True)\n",
        "\n",
        "# set the limits to be the same so they line up perfectly\n",
        "ax1.set(xlim=(0,5),ylim=(-1.05,1.05))\n",
        "ax2.set(xlim=(0,5),ylim=(-1.05,1.05))\n",
        "ax3.set(xlim=(0,5),ylim=(-1.05,1.05))\n",
        "ax4.set(xlim=(0,5),ylim=(-1.05,1.05))\n",
        "ax5.set(xlim=(0,5),ylim=(-1.05,1.05))\n",
        "ax6.set(xlim=(0,5),ylim=(-1.05,1.05))\n",
        "\n",
        "# Add grids\n",
        "ax1.grid(True)\n",
        "ax2.grid(True)\n",
        "ax3.grid(True)\n",
        "ax4.grid(True)\n",
        "ax5.grid(True)\n",
        "ax6.grid(True)\n",
        "\n",
        "# remove tick labels for interior axes\n",
        "ax1.xaxis.set(ticklabels=[])\n",
        "ax2.xaxis.set(ticklabels=[])\n",
        "ax3.xaxis.set(ticklabels=[])\n",
        "\n",
        "ax2.yaxis.set(ticklabels=[])\n",
        "ax3.yaxis.set(ticklabels=[])\n",
        "ax5.yaxis.set(ticklabels=[])\n",
        "ax6.yaxis.set(ticklabels=[])\n"
      ]
    },
    {
      "cell_type": "markdown",
      "metadata": {
        "id": "fIgEo17OdUyt"
      },
      "source": [
        "More plot examples (so that you could have nice styles when you need them):"
      ]
    },
    {
      "cell_type": "code",
      "execution_count": null,
      "metadata": {
        "id": "ym6G72pTdUyt"
      },
      "outputs": [],
      "source": [
        "x = np.linspace(0,5,30)\n",
        "y1 = np.sin(x)\n",
        "y2 = np.cos(x)\n",
        "e1 = 0.1*abs(np.random.randn(len(x)))\n",
        "e2 = 0.2*abs(np.random.randn(len(x)))\n",
        "h1 = 100 + 20*np.random.randn(10000)\n",
        "y5 = np.sin(x + 0.8)\n",
        "y6 = np.sin(x + 1.0)\n",
        "y7 = np.sin(x + 1.2)\n",
        "\n",
        "# create figure\n",
        "fig = plt.figure(figsize=(15,6))\n",
        "# import gridspec and create a 4x4 grid\n",
        "# This time lets join them up into one\n",
        "import matplotlib.gridspec as gs\n",
        "grid = gs.GridSpec(2,4)\n",
        "\n",
        "# Create axis objects for each plot\n",
        "ax1 = plt.subplot(grid[0,0])\n",
        "ax2 = plt.subplot(grid[0,1])\n",
        "ax3 = plt.subplot(grid[0,2])\n",
        "ax4 = plt.subplot(grid[0,3])\n",
        "ax5 = plt.subplot(grid[1,0])\n",
        "ax6 = plt.subplot(grid[1,1])\n",
        "ax7 = plt.subplot(grid[1,2], projection='polar')\n",
        "ax8 = plt.subplot(grid[1,3])\n",
        "\n",
        "ax1.fill_between(x,y1,y2)\n",
        "ax2.errorbar(x,y1,fmt='.k',xerr=e1,yerr=e2,linestyle=' ')\n",
        "ax3.loglog(x,y1)\n",
        "ax4.hist(h1,50)\n",
        "ax5.scatter(e1,e2,c=e1)\n",
        "ax6.pie(np.abs(y1))\n",
        "ax7.plot(x,y1)\n",
        "ax8.plot(x,y1)\n",
        "\n",
        "ax8.text(1.3,0.6,'some text')"
      ]
    },
    {
      "cell_type": "markdown",
      "metadata": {
        "id": "0r-KOYSAdUyt"
      },
      "source": [
        "Different plot styles:"
      ]
    },
    {
      "cell_type": "code",
      "execution_count": null,
      "metadata": {
        "id": "iCcDrPGldUyt"
      },
      "outputs": [],
      "source": [
        "help(plt.style)"
      ]
    },
    {
      "cell_type": "code",
      "execution_count": null,
      "metadata": {
        "id": "ymwEfGn-dUyt"
      },
      "outputs": [],
      "source": [
        "with plt.style.context(('dark_background')):\n",
        "    plt.plot(x,y5,color='g')"
      ]
    },
    {
      "cell_type": "code",
      "execution_count": null,
      "metadata": {
        "id": "pJHH4v5MdUyt"
      },
      "outputs": [],
      "source": [
        "with plt.style.context(('classic')):\n",
        "    plt.plot(x,y1,color='r')"
      ]
    },
    {
      "cell_type": "code",
      "execution_count": null,
      "metadata": {
        "id": "0jAzQ_ygdUyu"
      },
      "outputs": [],
      "source": [
        "with plt.style.context(('ggplot')):\n",
        "    plt.plot(x,y2,color='g')"
      ]
    },
    {
      "cell_type": "code",
      "execution_count": null,
      "metadata": {
        "id": "-7BXstmSdUyu"
      },
      "outputs": [],
      "source": [
        "with plt.style.context(('grayscale')):\n",
        "    plt.plot(x,y2,color='c')"
      ]
    },
    {
      "cell_type": "code",
      "execution_count": null,
      "metadata": {
        "id": "QbJYu6M9dUyu"
      },
      "outputs": [],
      "source": [
        "with plt.style.context(('seaborn')):\n",
        "    plt.plot(x,y7,color='b')"
      ]
    },
    {
      "cell_type": "code",
      "execution_count": null,
      "metadata": {
        "id": "UbBJ5l8EdUyu"
      },
      "outputs": [],
      "source": [
        "with plt.style.context(('seaborn-white')):\n",
        "    plt.plot(x,y2,color='y')"
      ]
    },
    {
      "cell_type": "markdown",
      "metadata": {
        "tags": [],
        "id": "fPrD1ZWNdUyv"
      },
      "source": [
        "### For very nice looking statistical data, use this [package](https://seaborn.pydata.org/)"
      ]
    },
    {
      "cell_type": "markdown",
      "metadata": {
        "id": "LyChiRb3dUyv"
      },
      "source": [
        "### 3D plots"
      ]
    },
    {
      "cell_type": "code",
      "execution_count": null,
      "metadata": {
        "id": "05yIngaWdUyv"
      },
      "outputs": [],
      "source": [
        "from mpl_toolkits import mplot3d\n",
        "\n",
        "x = np.linspace(0,20,100)\n",
        "y = x*np.sin(x)\n",
        "z = x*np.cos(x)\n",
        "\n",
        "fig = plt.figure(figsize=(10,10))\n",
        "ax = plt.axes(projection='3d')\n",
        "\n",
        "ax.plot3D(x,y,z)\n",
        "plt.show()"
      ]
    },
    {
      "cell_type": "code",
      "execution_count": null,
      "metadata": {
        "id": "z33-w83JdUyv"
      },
      "outputs": [],
      "source": [
        "x = np.linspace(0,20,100)\n",
        "y = x*np.sin(x)\n",
        "z = x*np.cos(x)\n",
        "\n",
        "fig = plt.figure(figsize=(10,10))\n",
        "ax = plt.axes(projection='3d')\n",
        "\n",
        "ax.scatter3D(x,y,z,c=z)\n",
        "plt.show()"
      ]
    },
    {
      "cell_type": "code",
      "execution_count": null,
      "metadata": {
        "id": "5I3mmu7IdUy3"
      },
      "outputs": [],
      "source": [
        "x = np.linspace(0,10,100)\n",
        "y = x\n",
        "X,Y=np.meshgrid(x,y)\n",
        "\n",
        "Z = (X-5)**2 + (Y-5)\n",
        "\n",
        "fig = plt.figure(figsize=(15,10))\n",
        "ax = plt.axes(projection='3d')\n",
        "\n",
        "ax.contour3D(X,Y,Z,50)\n",
        "plt.show()"
      ]
    },
    {
      "cell_type": "code",
      "execution_count": null,
      "metadata": {
        "id": "sWwQjQa1dUy3"
      },
      "outputs": [],
      "source": [
        "u, v = np.mgrid[0:2*np.pi:100j, 0:np.pi:50j]\n",
        "x = np.cos(u)*np.sin(v)\n",
        "y = np.sin(u)*np.sin(v)\n",
        "z = np.cos(v)\n",
        "\n",
        "fig = plt.figure(figsize=(15,15))\n",
        "ax = plt.axes(projection='3d')\n",
        "\n",
        "ax.plot_wireframe(x, y, z)\n",
        "plt.show()"
      ]
    },
    {
      "cell_type": "code",
      "execution_count": null,
      "metadata": {
        "id": "vAGAV4GudUy4"
      },
      "outputs": [],
      "source": [
        "x = np.linspace(0,10,100)\n",
        "y = x\n",
        "X,Y=np.meshgrid(x,y)\n",
        "\n",
        "Z = (X-5)**2 + (Y-5)\n",
        "\n",
        "fig = plt.figure(figsize=(15,10))\n",
        "ax = plt.axes(projection='3d')\n",
        "\n",
        "ax.plot_surface(X,Y,Z,rstride=1,cstride=1,cmap='cubehelix')\n",
        "plt.show()"
      ]
    },
    {
      "cell_type": "code",
      "execution_count": null,
      "metadata": {
        "id": "OV1Hye7DdUy4"
      },
      "outputs": [],
      "source": [
        "x = np.linspace(0,20,100)\n",
        "y = np.linspace(0,2*np.pi,100)\n",
        "\n",
        "r,t=np.meshgrid(x,y)\n",
        "\n",
        "X = r * np.sin(t)\n",
        "Y = r * np.cos(t)\n",
        "\n",
        "Z = (X-5)**2 + (Y-5)\n",
        "\n",
        "fig = plt.figure(figsize=(15,10))\n",
        "ax = plt.axes(projection='3d')\n",
        "\n",
        "ax.plot_surface(X,Y,Z)\n",
        "plt.show()"
      ]
    },
    {
      "cell_type": "code",
      "execution_count": null,
      "metadata": {
        "id": "kUHVok7mdUy4"
      },
      "outputs": [],
      "source": [
        "x = 2*np.random.random(1000)-1e0\n",
        "y = 2*np.random.random(1000)-1e0\n",
        "\n",
        "z = x**2 + y**3\n",
        "\n",
        "fig = plt.figure(figsize=(15,10))\n",
        "ax = plt.axes(projection='3d')\n",
        "\n",
        "ax.plot_trisurf(x,y,z)\n",
        "plt.show()"
      ]
    }
  ],
  "metadata": {
    "kernelspec": {
      "display_name": "Python [conda env:my_env2] *",
      "language": "python",
      "name": "conda-env-my_env2-py"
    },
    "language_info": {
      "codemirror_mode": {
        "name": "ipython",
        "version": 3
      },
      "file_extension": ".py",
      "mimetype": "text/x-python",
      "name": "python",
      "nbconvert_exporter": "python",
      "pygments_lexer": "ipython3",
      "version": "3.10.8"
    },
    "colab": {
      "provenance": []
    }
  },
  "nbformat": 4,
  "nbformat_minor": 0
}